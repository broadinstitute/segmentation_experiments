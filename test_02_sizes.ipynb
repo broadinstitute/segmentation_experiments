{
 "cells": [
  {
   "cell_type": "code",
   "execution_count": 1,
   "metadata": {},
   "outputs": [],
   "source": [
    "from functions.sizes import compute_avg_size\n",
    "import os"
   ]
  },
  {
   "cell_type": "code",
   "execution_count": 2,
   "metadata": {},
   "outputs": [],
   "source": [
    "training_imgs_dir = \"/raid/data/BBBC038/training/\"\n",
    "all_files = os.listdir(training_imgs_dir)"
   ]
  },
  {
   "cell_type": "code",
   "execution_count": 3,
   "metadata": {},
   "outputs": [
    {
     "name": "stdout",
     "output_type": "stream",
     "text": [
      "Nucleus #1 has size 401\n",
      "Nucleus #2 has size 101\n",
      "Nucleus #3 has size 338\n",
      "Nucleus #4 has size 122\n",
      "Nucleus #5 has size 153\n",
      "Nucleus #6 has size 327\n",
      "Nucleus #7 has size 199\n",
      "Nucleus #8 has size 287\n",
      "Nucleus #9 has size 366\n",
      "Nucleus #10 has size 152\n",
      "Nucleus #11 has size 378\n",
      "Nucleus #12 has size 23\n",
      "Nucleus #13 has size 203\n",
      "Nucleus #14 has size 419\n",
      "Nucleus #15 has size 311\n",
      "Nucleus #16 has size 268\n",
      "Nucleus #17 has size 207\n",
      "Nucleus #18 has size 308\n",
      "Nucleus #19 has size 152\n",
      "Nucleus #20 has size 141\n",
      "Nucleus #21 has size 196\n",
      "Nucleus #22 has size 298\n",
      "Nucleus #23 has size 281\n",
      "Nucleus #24 has size 139\n",
      "Nucleus #25 has size 196\n",
      "Nucleus #26 has size 369\n",
      "Nucleus #27 has size 283\n",
      "Nucleus #28 has size 135\n",
      "Nucleus #29 has size 176\n",
      "Average nucleus size is 238.931034\n"
     ]
    }
   ],
   "source": [
    "avg_size = compute_avg_size(all_files[0], loud=True)"
   ]
  },
  {
   "cell_type": "code",
   "execution_count": null,
   "metadata": {},
   "outputs": [],
   "source": []
  }
 ],
 "metadata": {
  "kernelspec": {
   "display_name": "Python 3",
   "language": "python",
   "name": "python3"
  },
  "language_info": {
   "codemirror_mode": {
    "name": "ipython",
    "version": 3
   },
   "file_extension": ".py",
   "mimetype": "text/x-python",
   "name": "python",
   "nbconvert_exporter": "python",
   "pygments_lexer": "ipython3",
   "version": "3.7.3"
  }
 },
 "nbformat": 4,
 "nbformat_minor": 4
}
