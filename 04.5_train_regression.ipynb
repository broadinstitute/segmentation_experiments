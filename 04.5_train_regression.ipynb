{
 "cells": [
  {
   "cell_type": "code",
   "execution_count": 1,
   "metadata": {
    "collapsed": true,
    "jupyter": {
     "outputs_hidden": true
    }
   },
   "outputs": [
    {
     "name": "stderr",
     "output_type": "stream",
     "text": [
      "WARNING:root:Limited tf.compat.v2.summary API due to missing TensorBoard installation.\n",
      "WARNING:root:Limited tf.compat.v2.summary API due to missing TensorBoard installation.\n",
      "WARNING:root:Limited tf.compat.v2.summary API due to missing TensorBoard installation.\n",
      "WARNING:root:Limited tf.summary API due to missing TensorBoard installation.\n"
     ]
    }
   ],
   "source": [
    "from functions.load_training_data import load_rescaled_samples_opt\n",
    "from skimage import io\n",
    "import matplotlib.pyplot as plt\n",
    "import tensorflow as tf\n",
    "import numpy as np\n",
    "import time"
   ]
  },
  {
   "cell_type": "markdown",
   "metadata": {},
   "source": [
    "# Load Training Samples"
   ]
  },
  {
   "cell_type": "code",
   "execution_count": 2,
   "metadata": {},
   "outputs": [
    {
     "name": "stdout",
     "output_type": "stream",
     "text": [
      "Creating mask composites...\n",
      "\tComposites created in 0 minutes, 52.15 seconds\n",
      "Rescaling data...\n",
      "\tData rescaled in 7 minutes, 40.52 seconds\n",
      "Cropping rescaled data...\n",
      "Data cropped in 0 minutes, 5.44 seconds\n"
     ]
    },
    {
     "data": {
      "image/png": "[encoded data removed]",
      "text/plain": [
       "<Figure size 432x288 with 1 Axes>"
      ]
     },
     "metadata": {
      "needs_background": "light"
     },
     "output_type": "display_data"
    }
   ],
   "source": [
    "cropped_sizes, cropped_comps, cropped_imgs = load_rescaled_samples_opt(n_samples=150, loud=True)"
   ]
  },
  {
   "cell_type": "code",
   "execution_count": 3,
   "metadata": {},
   "outputs": [
    {
     "name": "stderr",
     "output_type": "stream",
     "text": [
      "/opt/tljh/user/lib/python3.7/site-packages/skimage/io/_plugins/matplotlib_plugin.py:150: UserWarning: Low image data range; displaying image with stretched contrast.\n",
      "  lo, hi, cmap = _get_display_range(image)\n",
      "/opt/tljh/user/lib/python3.7/site-packages/skimage/io/_plugins/matplotlib_plugin.py:150: UserWarning: Float image out of standard range; displaying image with stretched contrast.\n",
      "  lo, hi, cmap = _get_display_range(image)\n"
     ]
    },
    {
     "data": {
      "text/plain": [
       "<matplotlib.image.AxesImage at 0x7fc384657470>"
      ]
     },
     "execution_count": 3,
     "metadata": {},
     "output_type": "execute_result"
    },
    {
     "data": {
      "image/png": "[encoded data removed]",
      "text/plain": [
       "<Figure size 432x288 with 2 Axes>"
      ]
     },
     "metadata": {
      "needs_background": "light"
     },
     "output_type": "display_data"
    },
    {
     "data": {
      "image/png": "[encoded data removed]",
      "text/plain": [
       "<Figure size 432x288 with 2 Axes>"
      ]
     },
     "metadata": {
      "needs_background": "light"
     },
     "output_type": "display_data"
    }
   ],
   "source": [
    "io.imshow(cropped_comps[200], cmap='nipy_spectral'); plt.figure()\n",
    "io.imshow(cropped_imgs[200])"
   ]
  },
  {
   "cell_type": "markdown",
   "metadata": {},
   "source": [
    "# Configure GPU"
   ]
  },
  {
   "cell_type": "code",
   "execution_count": 4,
   "metadata": {},
   "outputs": [
    {
     "name": "stdout",
     "output_type": "stream",
     "text": [
      "8 Physical GPUs, 1 Logical GPU\n",
      "Configured to run on GPU 4\n"
     ]
    }
   ],
   "source": [
    "from functions.tf_config import config_gpu\n",
    "\n",
    "config_gpu(4, True)"
   ]
  },
  {
   "cell_type": "markdown",
   "metadata": {},
   "source": [
    "# Configure Model"
   ]
  },
  {
   "cell_type": "code",
   "execution_count": 5,
   "metadata": {},
   "outputs": [],
   "source": [
    "from tensorflow import keras\n",
    "model = keras.models.Sequential([\n",
    "    keras.layers.Conv2D(64, 3, input_shape=(128, 128, 3), activation='relu', strides=(2,2)),\n",
    "    keras.layers.Conv2D(32, 3, activation='relu', strides=(2,2)),\n",
    "    keras.layers.Conv2D(16, 3, activation='relu', strides=(2,2)),\n",
    "    keras.layers.Flatten(),\n",
    "    keras.layers.Dense(256, activation='relu'),\n",
    "    keras.layers.Dense(1)\n",
    "])"
   ]
  },
  {
   "cell_type": "code",
   "execution_count": 6,
   "metadata": {},
   "outputs": [
    {
     "name": "stdout",
     "output_type": "stream",
     "text": [
      "Tensors created in 4 minutes, 8.04 seconds\n"
     ]
    }
   ],
   "source": [
    "start = time.time()\n",
    "img_tensor = tf.convert_to_tensor(cropped_imgs)\n",
    "size_tensor = tf.convert_to_tensor(cropped_sizes)\n",
    "end = time.time() - start\n",
    "print(\"Tensors created in %d minutes, %.2f seconds\" %((end // 60), (end % 60)))"
   ]
  },
  {
   "cell_type": "code",
   "execution_count": 7,
   "metadata": {},
   "outputs": [
    {
     "data": {
      "text/plain": [
       "TensorShape([11250, 128, 128, 3])"
      ]
     },
     "execution_count": 7,
     "metadata": {},
     "output_type": "execute_result"
    }
   ],
   "source": [
    "img_tensor.shape"
   ]
  },
  {
   "cell_type": "code",
   "execution_count": 8,
   "metadata": {},
   "outputs": [],
   "source": [
    "loss_fn = keras.losses.MeanAbsoluteError(\n",
    "                reduction='auto', name='mean_absolute_error')"
   ]
  },
  {
   "cell_type": "code",
   "execution_count": 9,
   "metadata": {},
   "outputs": [],
   "source": [
    "opt = keras.optimizers.Adam(learning_rate=.01)\n",
    "model.compile(optimizer=opt, loss=loss_fn, metrics='mean_absolute_error')"
   ]
  },
  {
   "cell_type": "code",
   "execution_count": 16,
   "metadata": {},
   "outputs": [
    {
     "name": "stdout",
     "output_type": "stream",
     "text": [
      "Epoch 1/5\n",
      "313/313 [==============================] - 3s 8ms/step - loss: 66.8816 - mean_absolute_error: 66.8816 - val_loss: 315.7300 - val_mean_absolute_error: 315.7300\n",
      "Epoch 2/5\n",
      "313/313 [==============================] - 2s 7ms/step - loss: 68.3702 - mean_absolute_error: 68.3702 - val_loss: 445.2173 - val_mean_absolute_error: 445.2173\n",
      "Epoch 3/5\n",
      "313/313 [==============================] - 2s 7ms/step - loss: 65.9718 - mean_absolute_error: 65.9718 - val_loss: 381.3334 - val_mean_absolute_error: 381.3334\n",
      "Epoch 4/5\n",
      "313/313 [==============================] - 2s 7ms/step - loss: 66.2586 - mean_absolute_error: 66.2586 - val_loss: 305.3649 - val_mean_absolute_error: 305.3649\n",
      "Epoch 5/5\n",
      "313/313 [==============================] - 2s 7ms/step - loss: 64.9640 - mean_absolute_error: 64.9640 - val_loss: 365.6221 - val_mean_absolute_error: 365.6221\n"
     ]
    },
    {
     "data": {
      "text/plain": [
       "<tensorflow.python.keras.callbacks.History at 0x7fc3858b20f0>"
      ]
     },
     "execution_count": 16,
     "metadata": {},
     "output_type": "execute_result"
    }
   ],
   "source": [
    "model.fit(img_tensor, size_tensor, epochs=5, verbose=1, validation_split=0.11)"
   ]
  },
  {
   "cell_type": "code",
   "execution_count": null,
   "metadata": {},
   "outputs": [],
   "source": []
  }
 ],
 "metadata": {
  "kernelspec": {
   "display_name": "Python 3",
   "language": "python",
   "name": "python3"
  },
  "language_info": {
   "codemirror_mode": {
    "name": "ipython",
    "version": 3
   },
   "file_extension": ".py",
   "mimetype": "text/x-python",
   "name": "python",
   "nbconvert_exporter": "python",
   "pygments_lexer": "ipython3",
   "version": "3.7.3"
  }
 },
 "nbformat": 4,
 "nbformat_minor": 4
}
