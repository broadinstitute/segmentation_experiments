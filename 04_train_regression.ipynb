{
 "cells": [
  {
   "cell_type": "code",
   "execution_count": 1,
   "metadata": {
    "collapsed": true,
    "jupyter": {
     "outputs_hidden": true
    }
   },
   "outputs": [
    {
     "name": "stderr",
     "output_type": "stream",
     "text": [
      "WARNING:root:Limited tf.compat.v2.summary API due to missing TensorBoard installation.\n",
      "WARNING:root:Limited tf.compat.v2.summary API due to missing TensorBoard installation.\n",
      "WARNING:root:Limited tf.compat.v2.summary API due to missing TensorBoard installation.\n",
      "WARNING:root:Limited tf.summary API due to missing TensorBoard installation.\n"
     ]
    }
   ],
   "source": [
    "from functions.load_training_data import training_samples, load_regression_samples\n",
    "from skimage import io\n",
    "import matplotlib.pyplot as plt\n",
    "import pandas as pd\n",
    "import tensorflow as tf\n",
    "import numpy as np\n",
    "import time"
   ]
  },
  {
   "cell_type": "markdown",
   "metadata": {},
   "source": [
    "# Load Training Samples"
   ]
  },
  {
   "cell_type": "code",
   "execution_count": 2,
   "metadata": {},
   "outputs": [
    {
     "name": "stdout",
     "output_type": "stream",
     "text": [
      "723.0787999629974\n"
     ]
    }
   ],
   "source": [
    "start = time.time()\n",
    "image_samples, image_labels, mask_composites, full_images = training_samples(1000, [1,1,1,1], load_masks=True)\n",
    "print(time.time() - start)"
   ]
  },
  {
   "cell_type": "code",
   "execution_count": 3,
   "metadata": {},
   "outputs": [
    {
     "name": "stdout",
     "output_type": "stream",
     "text": [
      "1.0871107578277588\n"
     ]
    }
   ],
   "source": [
    "start = time.time()\n",
    "cropped_imgs, cropped_masks, nuclei_sizes, labels = load_regression_samples(full_images, image_labels, mask_composites)\n",
    "print(time.time() - start)"
   ]
  },
  {
   "cell_type": "code",
   "execution_count": 4,
   "metadata": {},
   "outputs": [
    {
     "data": {
      "text/plain": [
       "array([  0.  ,  86.75,   0.  , 669.  , 181.4 , 143.75,   0.  ,   0.  ,\n",
       "         0.  ])"
      ]
     },
     "execution_count": 4,
     "metadata": {},
     "output_type": "execute_result"
    }
   ],
   "source": [
    "nuclei_sizes[:9]"
   ]
  },
  {
   "cell_type": "code",
   "execution_count": 49,
   "metadata": {},
   "outputs": [
    {
     "data": {
      "text/plain": [
       "<matplotlib.image.AxesImage at 0x7fbb64157780>"
      ]
     },
     "execution_count": 49,
     "metadata": {},
     "output_type": "execute_result"
    },
    {
     "data": {
      "image/png": "[encoded data removed]",
      "text/plain": [
       "<Figure size 432x288 with 2 Axes>"
      ]
     },
     "metadata": {
      "needs_background": "light"
     },
     "output_type": "display_data"
    },
    {
     "data": {
      "image/png": "[encoded data removed]",
      "text/plain": [
       "<Figure size 432x288 with 1 Axes>"
      ]
     },
     "metadata": {
      "needs_background": "light"
     },
     "output_type": "display_data"
    }
   ],
   "source": [
    "io.imshow(cropped_masks[1]); plt.figure()\n",
    "io.imshow(cropped_imgs[1], cmap='nipy_spectral')"
   ]
  },
  {
   "cell_type": "markdown",
   "metadata": {},
   "source": [
    "# Configure GPU"
   ]
  },
  {
   "cell_type": "code",
   "execution_count": 6,
   "metadata": {},
   "outputs": [
    {
     "name": "stdout",
     "output_type": "stream",
     "text": [
      "8 Physical GPUs, 1 Logical GPU\n",
      "Configured to run on GPU 5\n"
     ]
    }
   ],
   "source": [
    "from functions.tf_config import config_gpu\n",
    "\n",
    "config_gpu(5, True)"
   ]
  },
  {
   "cell_type": "markdown",
   "metadata": {},
   "source": [
    "# Configure Model"
   ]
  },
  {
   "cell_type": "code",
   "execution_count": 21,
   "metadata": {},
   "outputs": [],
   "source": [
    "from tensorflow import keras\n",
    "model = keras.models.Sequential([\n",
    "    keras.layers.Conv2D(32, 3, input_shape=(64, 64, 3), activation='relu', strides=(2,2)),\n",
    "    keras.layers.Conv2D(16, 3, activation='relu', strides=(2,2)),\n",
    "    keras.layers.Conv2D(8, 3, activation='relu', strides=(2,2)),\n",
    "    keras.layers.Flatten(),\n",
    "    keras.layers.Dense(256, activation='relu'),\n",
    "    keras.layers.Dense(1)\n",
    "])"
   ]
  },
  {
   "cell_type": "code",
   "execution_count": 22,
   "metadata": {},
   "outputs": [
    {
     "data": {
      "text/plain": [
       "array([[-0.00383067],\n",
       "       [-0.00139269],\n",
       "       [-0.08399758],\n",
       "       ...,\n",
       "       [-0.0504927 ],\n",
       "       [-0.08568975],\n",
       "       [-0.07192635]], dtype=float32)"
      ]
     },
     "execution_count": 22,
     "metadata": {},
     "output_type": "execute_result"
    }
   ],
   "source": [
    "predictions = model(cropped_imgs).numpy()\n",
    "predictions"
   ]
  },
  {
   "cell_type": "code",
   "execution_count": 23,
   "metadata": {},
   "outputs": [
    {
     "data": {
      "text/plain": [
       "array([[1.],\n",
       "       [1.],\n",
       "       [1.],\n",
       "       ...,\n",
       "       [1.],\n",
       "       [1.],\n",
       "       [1.]], dtype=float32)"
      ]
     },
     "execution_count": 23,
     "metadata": {},
     "output_type": "execute_result"
    }
   ],
   "source": [
    "tf.nn.softmax(predictions).numpy()"
   ]
  },
  {
   "cell_type": "code",
   "execution_count": 28,
   "metadata": {},
   "outputs": [
    {
     "data": {
      "text/plain": [
       "(4000, 64, 64)"
      ]
     },
     "execution_count": 28,
     "metadata": {},
     "output_type": "execute_result"
    }
   ],
   "source": [
    "cropped_masks.shape"
   ]
  },
  {
   "cell_type": "code",
   "execution_count": 38,
   "metadata": {},
   "outputs": [
    {
     "data": {
      "text/plain": [
       "199.5875"
      ]
     },
     "execution_count": 38,
     "metadata": {},
     "output_type": "execute_result"
    }
   ],
   "source": [
    "loss_fn = tf.keras.losses.MeanAbsoluteError(\n",
    "    reduction=\"auto\", name=\"mean_absolute_error\"\n",
    ")\n",
    "loss_fn(nuclei_sizes, predictions).numpy()"
   ]
  },
  {
   "cell_type": "code",
   "execution_count": 41,
   "metadata": {},
   "outputs": [],
   "source": [
    "opt = tf.keras.optimizers.Adam(learning_rate=.0001)\n",
    "model.compile(optimizer=opt, loss=loss_fn, metrics=\"mean_absolute_error\")"
   ]
  },
  {
   "cell_type": "code",
   "execution_count": 47,
   "metadata": {},
   "outputs": [
    {
     "name": "stdout",
     "output_type": "stream",
     "text": [
      "Epoch 1/10\n",
      "119/119 [==============================] - 1s 4ms/step - loss: 121.3068 - mean_absolute_error: 121.3068 - val_loss: 128.5252 - val_mean_absolute_error: 128.5252\n",
      "Epoch 2/10\n",
      "119/119 [==============================] - 1s 5ms/step - loss: 121.0441 - mean_absolute_error: 121.0441 - val_loss: 129.7672 - val_mean_absolute_error: 129.7672\n",
      "Epoch 3/10\n",
      "119/119 [==============================] - 1s 5ms/step - loss: 120.9920 - mean_absolute_error: 120.9920 - val_loss: 129.2917 - val_mean_absolute_error: 129.2917\n",
      "Epoch 4/10\n",
      "119/119 [==============================] - 0s 4ms/step - loss: 120.8043 - mean_absolute_error: 120.8043 - val_loss: 127.8166 - val_mean_absolute_error: 127.8166\n",
      "Epoch 5/10\n",
      "119/119 [==============================] - 1s 5ms/step - loss: 119.8418 - mean_absolute_error: 119.8418 - val_loss: 128.1363 - val_mean_absolute_error: 128.1363\n",
      "Epoch 6/10\n",
      "119/119 [==============================] - 1s 5ms/step - loss: 120.0980 - mean_absolute_error: 120.0980 - val_loss: 127.4452 - val_mean_absolute_error: 127.4452\n",
      "Epoch 7/10\n",
      "119/119 [==============================] - 1s 5ms/step - loss: 119.2086 - mean_absolute_error: 119.2086 - val_loss: 128.3088 - val_mean_absolute_error: 128.3088\n",
      "Epoch 8/10\n",
      "119/119 [==============================] - 1s 5ms/step - loss: 119.2582 - mean_absolute_error: 119.2582 - val_loss: 128.7349 - val_mean_absolute_error: 128.7349\n",
      "Epoch 9/10\n",
      "119/119 [==============================] - 1s 5ms/step - loss: 118.9630 - mean_absolute_error: 118.9630 - val_loss: 127.3935 - val_mean_absolute_error: 127.3935\n",
      "Epoch 10/10\n",
      "119/119 [==============================] - 1s 5ms/step - loss: 118.4520 - mean_absolute_error: 118.4520 - val_loss: 126.9438 - val_mean_absolute_error: 126.9438\n"
     ]
    },
    {
     "data": {
      "text/plain": [
       "<tensorflow.python.keras.callbacks.History at 0x7fbbb018d4e0>"
      ]
     },
     "execution_count": 47,
     "metadata": {},
     "output_type": "execute_result"
    }
   ],
   "source": [
    "model.fit(cropped_imgs, nuclei_sizes, epochs=10, batch_size=32,validation_split=0.05)"
   ]
  },
  {
   "cell_type": "code",
   "execution_count": null,
   "metadata": {},
   "outputs": [],
   "source": []
  }
 ],
 "metadata": {
  "kernelspec": {
   "display_name": "Python 3",
   "language": "python",
   "name": "python3"
  },
  "language_info": {
   "codemirror_mode": {
    "name": "ipython",
    "version": 3
   },
   "file_extension": ".py",
   "mimetype": "text/x-python",
   "name": "python",
   "nbconvert_exporter": "python",
   "pygments_lexer": "ipython3",
   "version": "3.7.3"
  }
 },
 "nbformat": 4,
 "nbformat_minor": 4
}
