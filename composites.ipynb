{
 "cells": [
  {
   "cell_type": "code",
   "execution_count": 1,
   "metadata": {},
   "outputs": [],
   "source": [
    "import os\n",
    "import numpy as np\n",
    "import matplotlib.pyplot as plt\n",
    "from matplotlib.pyplot import imshow\n",
    "from skimage import io, measure, filters\n",
    "\n",
    "training_imgs_dir = \"/raid/data/BBBC038/training/\""
   ]
  },
  {
   "cell_type": "markdown",
   "metadata": {},
   "source": [
    "# Load All Data"
   ]
  },
  {
   "cell_type": "code",
   "execution_count": 10,
   "metadata": {},
   "outputs": [],
   "source": [
    "img_paths = []\n",
    "img_names = []\n",
    "mask_png_list = []\n",
    "mask_colls = []\n",
    "\n",
    "for img_name in os.listdir(training_imgs_dir):\n",
    "    path_image = f\"{training_imgs_dir}/{img_name}/images/{img_name}.png\" # path of each image png\n",
    "    path_masks = f\"{training_imgs_dir}/{img_name}/masks/*.png\"           # path to each directory of masks for each image\n",
    "    \n",
    "    coll = io.collection.ImageCollection(path_masks)     # image collection storing all masks for given image\n",
    "    mask_dir = f\"{training_imgs_dir}/{img_name}/masks/\"       \n",
    "    mask_dir = os.listdir(mask_dir)                           # list of all masks for an image\n",
    "    \n",
    "    img_names.append(img_name)                                # store list of image names\n",
    "    img_paths.append(path_image)                              # store paths to each image\n",
    "    mask_png_list.append(mask_dir)                            # store lists of mask names\n",
    "    mask_colls.append(coll)                              # store mask collections\n",
    "    \n",
    "# sample\n",
    "# io.imshow(img_paths[0])\n",
    "# plt.figure()\n",
    "# io.imshow(mask_colls[0][0])\n",
    "# print(mask_png_list[0][0])\n",
    "# print(img_names[0])"
   ]
  },
  {
   "cell_type": "markdown",
   "metadata": {},
   "source": [
    "# Composite Mask of Nuclei Into Single Image\n",
    "* use numpy to concactenate image arrays\n",
    "* multiply each array by a different number to tell the difference when combining arrays"
   ]
  },
  {
   "cell_type": "code",
   "execution_count": 11,
   "metadata": {},
   "outputs": [],
   "source": [
    "img = io.imread(img_paths[0])  # numpy.ndarray\n",
    "masks = mask_colls[0]          # mask collection"
   ]
  },
  {
   "cell_type": "code",
   "execution_count": 14,
   "metadata": {},
   "outputs": [
    {
     "data": {
      "text/plain": [
       "<matplotlib.image.AxesImage at 0x7fd30a92d400>"
      ]
     },
     "execution_count": 14,
     "metadata": {},
     "output_type": "execute_result"
    },
    {
     "data": {
      "image/png": "[encoded data removed]",
      "text/plain": [
       "<Figure size 432x288 with 2 Axes>"
      ]
     },
     "metadata": {
      "needs_background": "light"
     },
     "output_type": "display_data"
    }
   ],
   "source": [
    "sample = 0\n",
    "for i in range(len(masks)):\n",
    "    sample += masks[i] * (5 * np.random.sample()) % 255\n",
    "    # put all masks into a single image\n",
    "    # multiply each mask by random values for easier visualization\n",
    "io.imshow(sample, cmap='viridis')"
   ]
  },
  {
   "cell_type": "code",
   "execution_count": 13,
   "metadata": {},
   "outputs": [
    {
     "data": {
      "text/plain": [
       "<matplotlib.image.AxesImage at 0x7fd30aa01320>"
      ]
     },
     "execution_count": 13,
     "metadata": {},
     "output_type": "execute_result"
    },
    {
     "data": {
      "image/png": "[encoded data removed]",
      "text/plain": [
       "<Figure size 432x288 with 2 Axes>"
      ]
     },
     "metadata": {
      "needs_background": "light"
     },
     "output_type": "display_data"
    }
   ],
   "source": [
    "from composites import composite_masks\n",
    "\n",
    "comp = composite_masks(mask_colls[1])\n",
    "io.imshow(comp)"
   ]
  },
  {
   "cell_type": "markdown",
   "metadata": {},
   "source": [
    "# Create Labelled Matrix\n",
    "* Need to read documentation, etc."
   ]
  },
  {
   "cell_type": "code",
   "execution_count": null,
   "metadata": {},
   "outputs": [],
   "source": [
    "n = 12\n",
    "l = 256\n",
    "# np.random.seed(0)\n",
    "im = np.zeros((l, l))\n",
    "points = l * np.random.random((2, n ** 2))\n",
    "im[(points[0]).astype(np.int), (points[1]).astype(np.int)] = 1\n",
    "im = filters.gaussian(im, sigma= l / (4. * n))\n",
    "blobs = im > 0.7 * im.mean()\n",
    "all_labels = measure.label(blobs)\n",
    "blobs_labels = measure.label(blobs, background=0)\n",
    "\n",
    "plt.figure(figsize=(9, 3.5))\n",
    "plt.subplot(131)\n",
    "plt.imshow(blobs, cmap='gray')\n",
    "plt.axis('off')\n",
    "plt.subplot(132)\n",
    "plt.imshow(all_labels, cmap='nipy_spectral')\n",
    "plt.axis('off')\n",
    "\n",
    "plt.tight_layout()\n",
    "plt.show()"
   ]
  },
  {
   "cell_type": "code",
   "execution_count": null,
   "metadata": {},
   "outputs": [],
   "source": [
    "nuclei = sample > 0\n",
    "all_labels = measure.label(nuclei)\n",
    "nuclei_labels = measure.label(nuclei, background=0)\n",
    "\n",
    "plt.figure(figsize=(9,3.5))\n",
    "plt.subplot(131)\n",
    "plt.imshow(nuclei, cmap='gray')\n",
    "\n",
    "plt.subplot(132)\n",
    "plt.imshow(all_labels, cmap='nipy_spectral')\n",
    "plt.tight_layout()\n",
    "plt.show()\n",
    "# issue at approx [75, 140]\n",
    "# because nuclei are touching, label identifies them as one object"
   ]
  },
  {
   "cell_type": "code",
   "execution_count": null,
   "metadata": {},
   "outputs": [],
   "source": []
  }
 ],
 "metadata": {
  "kernelspec": {
   "display_name": "Python 3",
   "language": "python",
   "name": "python3"
  },
  "language_info": {
   "codemirror_mode": {
    "name": "ipython",
    "version": 3
   },
   "file_extension": ".py",
   "mimetype": "text/x-python",
   "name": "python",
   "nbconvert_exporter": "python",
   "pygments_lexer": "ipython3",
   "version": "3.7.3"
  }
 },
 "nbformat": 4,
 "nbformat_minor": 4
}
