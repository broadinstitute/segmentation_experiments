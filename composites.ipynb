{
 "cells": [
  {
   "cell_type": "code",
   "execution_count": 71,
   "metadata": {},
   "outputs": [],
   "source": [
    "import os\n",
    "import numpy as np\n",
    "from numpy import random\n",
    "import matplotlib.pyplot as plt\n",
    "from matplotlib.pyplot import imshow\n",
    "from skimage import io\n",
    "import math\n",
    "training_imgs_dir = \"/raid/data/BBBC038/training/\""
   ]
  },
  {
   "cell_type": "markdown",
   "metadata": {},
   "source": [
    "# Load All Data"
   ]
  },
  {
   "cell_type": "code",
   "execution_count": 9,
   "metadata": {},
   "outputs": [],
   "source": [
    "img_paths = []\n",
    "img_names = []\n",
    "mask_png_list = []\n",
    "mask_colls = []\n",
    "\n",
    "for img_name in os.listdir(training_imgs_dir):\n",
    "    path_image = f\"{training_imgs_dir}/{img_name}/images/{img_name}.png\" # path of each image png\n",
    "    path_masks = f\"{training_imgs_dir}/{img_name}/masks/*.png\"           # path to each directory of masks for each image\n",
    "    \n",
    "    mask_coll = io.collection.ImageCollection(path_masks)     # image collection storing all masks for given image\n",
    "    mask_dir = f\"{training_imgs_dir}/{img_name}/masks/\"       \n",
    "    mask_dir = os.listdir(mask_dir)                           # list of all masks for an image\n",
    "    \n",
    "    img_names.append(img_name)                                # store list of image names\n",
    "    img_paths.append(path_image)                              # store paths to each image\n",
    "    mask_png_list.append(mask_dir)                            # store lists of mask names\n",
    "    mask_colls.append(mask_coll)                              # store mask collections\n",
    "    \n",
    "# sample\n",
    "# io.imshow(img_paths[0])\n",
    "# plt.figure()\n",
    "# io.imshow(mask_colls[0][0])\n",
    "# print(mask_png_list[0][0])\n",
    "# print(img_names[0])"
   ]
  },
  {
   "cell_type": "markdown",
   "metadata": {},
   "source": [
    "# Sample Composite\n",
    "* Use numpy to concactenate image arrays"
   ]
  },
  {
   "cell_type": "code",
   "execution_count": 62,
   "metadata": {},
   "outputs": [],
   "source": [
    "img = io.imread(img_paths[0])  # numpy.ndarray\n",
    "masks = mask_colls[0]          # mask collection"
   ]
  },
  {
   "cell_type": "code",
   "execution_count": 80,
   "metadata": {},
   "outputs": [
    {
     "data": {
      "text/plain": [
       "<matplotlib.image.AxesImage at 0x7fcd4a2b0ba8>"
      ]
     },
     "execution_count": 80,
     "metadata": {},
     "output_type": "execute_result"
    },
    {
     "data": {
      "image/png": "[encoded data removed]",
      "text/plain": [
       "<Figure size 432x288 with 2 Axes>"
      ]
     },
     "metadata": {
      "needs_background": "light"
     },
     "output_type": "display_data"
    }
   ],
   "source": [
    "sample = 0\n",
    "occupied = []\n",
    "for i in range(len(masks)):\n",
    "    sample += masks[i] * (np.random.sample() + np.random.sample())\n",
    "io.imshow(sample)"
   ]
  },
  {
   "cell_type": "markdown",
   "metadata": {},
   "source": [
    "# Create Labelled Matrix\n",
    "* Need to read documentation, etc."
   ]
  },
  {
   "cell_type": "code",
   "execution_count": null,
   "metadata": {},
   "outputs": [],
   "source": []
  }
 ],
 "metadata": {
  "kernelspec": {
   "display_name": "Python 3",
   "language": "python",
   "name": "python3"
  },
  "language_info": {
   "codemirror_mode": {
    "name": "ipython",
    "version": 3
   },
   "file_extension": ".py",
   "mimetype": "text/x-python",
   "name": "python",
   "nbconvert_exporter": "python",
   "pygments_lexer": "ipython3",
   "version": "3.7.3"
  }
 },
 "nbformat": 4,
 "nbformat_minor": 4
}
