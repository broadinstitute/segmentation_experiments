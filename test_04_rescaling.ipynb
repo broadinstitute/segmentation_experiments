{
 "cells": [
  {
   "cell_type": "code",
   "execution_count": 1,
   "metadata": {},
   "outputs": [],
   "source": [
    "from functions.load_all_data import load_imgs_masks\n",
    "from functions.sizes import compute_avg_size\n",
    "from functions.composites import composite_masks\n",
    "from skimage.transform import rescale, resize\n",
    "import numpy as np\n",
    "import matplotlib.pyplot as plt"
   ]
  },
  {
   "cell_type": "markdown",
   "metadata": {},
   "source": [
    "# Load Images and Masks\n",
    "* select a sample mask to experiment with\n",
    "* rescale and resize each work equally well, simply accept different parameters\n",
    "* rescale accepts a ratio, resize accepts a new shape\n",
    "* NOTE: rescale ratio affects both height AND width, so giving a ratio of 0.5 returns a composite that is .25 as large"
   ]
  },
  {
   "cell_type": "code",
   "execution_count": 2,
   "metadata": {},
   "outputs": [],
   "source": [
    "all_imgs, mask_colls = load_imgs_masks()[:2]"
   ]
  },
  {
   "cell_type": "code",
   "execution_count": 3,
   "metadata": {},
   "outputs": [],
   "source": [
    "ex_imgs, ex_masks = all_imgs[:10], mask_colls[:10]"
   ]
  },
  {
   "cell_type": "code",
   "execution_count": 4,
   "metadata": {},
   "outputs": [],
   "source": [
    "for i in range(len(ex_masks)):\n",
    "    mask = ex_masks[i]\n",
    "    ex_masks[i] = composite_masks(mask)"
   ]
  },
  {
   "cell_type": "code",
   "execution_count": 5,
   "metadata": {},
   "outputs": [
    {
     "name": "stdout",
     "output_type": "stream",
     "text": [
      "(256, 256, 4)\n",
      "(520, 696, 4)\n"
     ]
    }
   ],
   "source": [
    "for img in ex_imgs[:2]:\n",
    "    print(img.shape)"
   ]
  },
  {
   "cell_type": "code",
   "execution_count": 6,
   "metadata": {},
   "outputs": [],
   "source": [
    "sample_img = ex_imgs[9]\n",
    "sample_mask = ex_masks[9]\n",
    "\n",
    "curr_size = compute_avg_size(sample_mask)\n",
    "target_size = curr_size * 2\n",
    "\n",
    "ratio = curr_size / target_size"
   ]
  },
  {
   "cell_type": "code",
   "execution_count": 7,
   "metadata": {},
   "outputs": [],
   "source": [
    "rescaled = rescale(sample_mask, ratio, anti_aliasing=False, preserve_range=True, order=0)"
   ]
  },
  {
   "cell_type": "code",
   "execution_count": 8,
   "metadata": {},
   "outputs": [
    {
     "name": "stdout",
     "output_type": "stream",
     "text": [
      "0.5\n"
     ]
    },
    {
     "data": {
      "image/png": "[encoded data removed]",
      "text/plain": [
       "<Figure size 432x288 with 1 Axes>"
      ]
     },
     "metadata": {
      "needs_background": "light"
     },
     "output_type": "display_data"
    },
    {
     "data": {
      "image/png": "[encoded data removed]",
      "text/plain": [
       "<Figure size 432x288 with 1 Axes>"
      ]
     },
     "metadata": {
      "needs_background": "light"
     },
     "output_type": "display_data"
    }
   ],
   "source": [
    "plt.imshow(sample_mask); plt.figure()\n",
    "plt.imshow(rescaled)\n",
    "print(ratio)"
   ]
  },
  {
   "cell_type": "code",
   "execution_count": 9,
   "metadata": {},
   "outputs": [
    {
     "data": {
      "text/plain": [
       "27"
      ]
     },
     "execution_count": 9,
     "metadata": {},
     "output_type": "execute_result"
    }
   ],
   "source": [
    "len(np.unique(rescaled))"
   ]
  },
  {
   "cell_type": "code",
   "execution_count": 10,
   "metadata": {},
   "outputs": [
    {
     "data": {
      "image/png": "[encoded data removed]",
      "text/plain": [
       "<Figure size 432x288 with 1 Axes>"
      ]
     },
     "metadata": {
      "needs_background": "light"
     },
     "output_type": "display_data"
    }
   ],
   "source": [
    "for color in np.unique(sample_mask):\n",
    "    if color != 0:\n",
    "        plt.imshow(sample_mask == color)\n",
    "        break"
   ]
  },
  {
   "cell_type": "markdown",
   "metadata": {},
   "source": [
    "# Experiment with decomposition for rescaling\n",
    "* created technique for decomposing composite of masks\n",
    "* each mask is rescaled individually and then the rescaled masks are made into a new composite\n",
    "* both techniques (rescaling and decomposition) return desirable results"
   ]
  },
  {
   "cell_type": "code",
   "execution_count": 11,
   "metadata": {},
   "outputs": [],
   "source": [
    "from functions.composites import decompose_composite\n",
    "decomp_coll = decompose_composite(sample_mask)"
   ]
  },
  {
   "cell_type": "code",
   "execution_count": 12,
   "metadata": {},
   "outputs": [],
   "source": [
    "new_shape = (sample_mask.shape[0] * ratio, sample_mask.shape[1] * ratio)\n",
    "for i in range(len(decomp_coll)):\n",
    "    mask = resize(decomp_coll[i], new_shape, anti_aliasing=False, preserve_range=True, order=0)\n",
    "    decomp_coll[i] = mask"
   ]
  },
  {
   "cell_type": "code",
   "execution_count": 13,
   "metadata": {},
   "outputs": [
    {
     "data": {
      "text/plain": [
       "<matplotlib.image.AxesImage at 0x7fc37b92b198>"
      ]
     },
     "execution_count": 13,
     "metadata": {},
     "output_type": "execute_result"
    },
    {
     "data": {
      "image/png": "[encoded data removed]",
      "text/plain": [
       "<Figure size 432x288 with 1 Axes>"
      ]
     },
     "metadata": {
      "needs_background": "light"
     },
     "output_type": "display_data"
    }
   ],
   "source": [
    "new_comp = composite_masks(decomp_coll)\n",
    "plt.imshow(new_comp, cmap='nipy_spectral')"
   ]
  },
  {
   "cell_type": "code",
   "execution_count": 14,
   "metadata": {},
   "outputs": [
    {
     "name": "stdout",
     "output_type": "stream",
     "text": [
      "Original size = 236.038462\n",
      "Rescaled size = 59.538462\n",
      "New Comp. size = 59.538462\n"
     ]
    }
   ],
   "source": [
    "print(\"Original size = %f\\nRescaled size = %f\\nNew Comp. size = %f\" \n",
    "     %(compute_avg_size(sample_mask), compute_avg_size(rescaled), compute_avg_size(new_comp)))"
   ]
  },
  {
   "cell_type": "code",
   "execution_count": 15,
   "metadata": {},
   "outputs": [
    {
     "data": {
      "text/plain": [
       "<matplotlib.image.AxesImage at 0x7fc37b9150f0>"
      ]
     },
     "execution_count": 15,
     "metadata": {},
     "output_type": "execute_result"
    },
    {
     "data": {
      "image/png": "[encoded data removed]",
      "text/plain": [
       "<Figure size 432x288 with 1 Axes>"
      ]
     },
     "metadata": {
      "needs_background": "light"
     },
     "output_type": "display_data"
    }
   ],
   "source": [
    "plt.imshow(rescaled)"
   ]
  },
  {
   "cell_type": "code",
   "execution_count": 16,
   "metadata": {},
   "outputs": [],
   "source": [
    "assert int(compute_avg_size(sample_mask) * (ratio ** 2)) == int(compute_avg_size(new_comp))"
   ]
  },
  {
   "cell_type": "markdown",
   "metadata": {},
   "source": [
    "# Confirm Numerically\n",
    "* assert that rescaling works for different ratios and mask compositions"
   ]
  },
  {
   "cell_type": "code",
   "execution_count": null,
   "metadata": {},
   "outputs": [],
   "source": [
    "for i in range(670):\n",
    "    curr_mask = composite_masks(mask_colls[i])\n",
    "    curr_size = compute_avg_size(curr_mask)\n",
    "    \n",
    "    rand_val = np.random.uniform() * 3\n",
    "    rand_target = int(curr_size * rand_val)\n",
    "    rand_ratio = rand_target / curr_size\n",
    "    rand_ratio = rand_ratio ** (1/2) % 5\n",
    "    \n",
    "    rand_target = int(curr_size * (rand_ratio ** 2))\n",
    "    rand_shape = (int(curr_mask.shape[0] * rand_ratio),\n",
    "                  int(curr_mask.shape[1] * rand_ratio))\n",
    "    \n",
    "    resized_mask = resize(curr_mask, rand_shape, anti_aliasing=False, preserve_range=True, order=0)\n",
    "    resized_size = compute_avg_size(resized_mask)\n",
    "    diff = abs(int(rand_target - resized_size))\n",
    "    \n",
    "    if rand_target > 1000:\n",
    "        error = curr_size * .1\n",
    "    else:\n",
    "        error = 20\n",
    "        \n",
    "    assert diff <= error, \"Mask: %d, Ratio: %f, Difference: %f\\n\\t\\tOriginal size: %f Target size: %f, Rescaled size: %f\" %(i, rand_ratio, diff, curr_size, rand_target, resized_size)\n",
    "\n",
    "print(\"All good!\")"
   ]
  },
  {
   "cell_type": "markdown",
   "metadata": {},
   "source": [
    "# Rescale Images"
   ]
  },
  {
   "cell_type": "code",
   "execution_count": null,
   "metadata": {},
   "outputs": [],
   "source": [
    "resized_img = resize(all_imgs[200], \n",
    "                      (all_imgs[200].shape[0] * ratio, \n",
    "                       all_imgs[200].shape[1] * ratio),\n",
    "                      anti_aliasing=True, preserve_range=False)\n",
    "plt.imshow(all_imgs[200]); plt.figure()\n",
    "plt.imshow(resized_img)"
   ]
  },
  {
   "cell_type": "code",
   "execution_count": null,
   "metadata": {},
   "outputs": [],
   "source": [
    "from functions.rescaling import rescale_composite"
   ]
  },
  {
   "cell_type": "code",
   "execution_count": null,
   "metadata": {},
   "outputs": [],
   "source": [
    "rescaled_img, rescaled_comp = rescale_composite(sample_img, sample_mask, 800, True)"
   ]
  },
  {
   "cell_type": "code",
   "execution_count": null,
   "metadata": {},
   "outputs": [],
   "source": []
  }
 ],
 "metadata": {
  "kernelspec": {
   "display_name": "Python 3",
   "language": "python",
   "name": "python3"
  },
  "language_info": {
   "codemirror_mode": {
    "name": "ipython",
    "version": 3
   },
   "file_extension": ".py",
   "mimetype": "text/x-python",
   "name": "python",
   "nbconvert_exporter": "python",
   "pygments_lexer": "ipython3",
   "version": "3.7.3"
  }
 },
 "nbformat": 4,
 "nbformat_minor": 4
}
