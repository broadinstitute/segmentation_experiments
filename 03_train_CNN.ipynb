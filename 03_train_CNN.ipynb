{
 "cells": [
  {
   "cell_type": "markdown",
   "metadata": {},
   "source": [
    "# Normalize crops across image space"
   ]
  },
  {
   "cell_type": "code",
   "execution_count": 1,
   "metadata": {},
   "outputs": [
    {
     "name": "stderr",
     "output_type": "stream",
     "text": [
      "WARNING:root:Limited tf.compat.v2.summary API due to missing TensorBoard installation.\n",
      "WARNING:root:Limited tf.compat.v2.summary API due to missing TensorBoard installation.\n",
      "WARNING:root:Limited tf.compat.v2.summary API due to missing TensorBoard installation.\n",
      "WARNING:root:Limited tf.summary API due to missing TensorBoard installation.\n"
     ]
    }
   ],
   "source": [
    "from functions.crop_image import random_crop\n",
    "from functions.load_all_data import load_data_by_color, load_labeled_data\n",
    "from skimage import io\n",
    "import matplotlib.pyplot as plt\n",
    "import pandas as pd\n",
    "import tensorflow as tf\n",
    "import numpy as np\n",
    "import os"
   ]
  },
  {
   "cell_type": "code",
   "execution_count": 2,
   "metadata": {},
   "outputs": [],
   "source": [
    "purple_png_list, purple_img_paths, purple_mask_colls = load_data_by_color(color=\"Purple\")\n",
    "def_png_list, def_img_paths, def_mask_colls = load_data_by_color(color=\"Default\")"
   ]
  },
  {
   "cell_type": "code",
   "execution_count": null,
   "metadata": {},
   "outputs": [],
   "source": [
    "training_samples = []\n",
    "training_labels = []\n",
    "\n",
    "test_samples = []\n",
    "test_labels = []\n",
    "\n",
    "for i in range(1000):\n",
    "    # take 100 random crops of random images in the purple and default sets\n",
    "    # take samples from first half of respective data sets\n",
    "    \n",
    "    def_idx = np.random.randint(0, len(def_img_paths))\n",
    "    purp_idx = np.random.randint(0, len(purple_img_paths))\n",
    "    \n",
    "    def_img = io.imread(def_img_paths[def_idx])\n",
    "    purp_img = io.imread(purple_img_paths[purp_idx])\n",
    "    \n",
    "    def_img = random_crop(def_img)\n",
    "    purp_img = random_crop(purp_img)\n",
    "    \n",
    "    training_samples.append(def_img)\n",
    "    training_samples.append(purp_img)\n",
    "    \n",
    "\n",
    "    training_labels.append(0.)\n",
    "    training_labels.append(1.)\n",
    "\n",
    "    \n",
    "for i in range(10):\n",
    "    # test data\n",
    "    # take 10 random crops of random images in the other half of the image sets\n",
    "\n",
    "    def_idx = np.random.randint(0, len(def_img_paths))\n",
    "    purp_idx = np.random.randint(0, len(purple_img_paths))\n",
    "    \n",
    "    def_img = io.imread(def_img_paths[def_idx])\n",
    "    purp_img = io.imread(purple_img_paths[purp_idx])\n",
    "    \n",
    "    def_img = random_crop(def_img)\n",
    "    purp_img = random_crop(purp_img)\n",
    "    \n",
    "    \n",
    "    test_samples.append(def_img)\n",
    "    test_samples.append(purp_img)\n",
    "    \n",
    "    test_labels.append(0.)\n",
    "    test_labels.append(1.)\n"
   ]
  },
  {
   "cell_type": "code",
   "execution_count": null,
   "metadata": {},
   "outputs": [],
   "source": [
    "count = 0\n",
    "for i in training_samples:\n",
    "    io.imshow(i)\n",
    "    plt.figure()\n",
    "\n",
    "    if count == 3: \n",
    "        break\n",
    "    \n",
    "    count += 1"
   ]
  },
  {
   "cell_type": "code",
   "execution_count": null,
   "metadata": {},
   "outputs": [],
   "source": [
    "training_samples = np.array(training_samples)\n",
    "training_labels = np.array(training_labels)\n",
    "\n",
    "test_samples = np.array(test_samples)\n",
    "test_labels = np.array(test_labels)\n",
    "\n",
    "training_samples = training_samples / 255.\n",
    "test_samples = test_samples / 255."
   ]
  },
  {
   "cell_type": "code",
   "execution_count": null,
   "metadata": {},
   "outputs": [],
   "source": [
    "from functions.tf_config import config_gpu\n",
    "\n",
    "config_gpu(5, True)"
   ]
  },
  {
   "cell_type": "code",
   "execution_count": null,
   "metadata": {},
   "outputs": [],
   "source": [
    "from tensorflow import keras\n",
    "model = keras.models.Sequential([\n",
    "    keras.layers.Conv2D(32, 3, input_shape=(64, 64, 3), activation='relu', strides=(2,2)),\n",
    "    keras.layers.Conv2D(16, 3, activation='relu', strides=(2,2)),\n",
    "    keras.layers.Conv2D(8, 3, activation='relu', strides=(2,2)),\n",
    "    keras.layers.Flatten(),\n",
    "    keras.layers.Dense(256, activation='relu'),\n",
    "    keras.layers.Dense(2)\n",
    "])"
   ]
  },
  {
   "cell_type": "code",
   "execution_count": null,
   "metadata": {},
   "outputs": [],
   "source": [
    "predictions = model(training_samples).numpy()\n",
    "predictions"
   ]
  },
  {
   "cell_type": "code",
   "execution_count": null,
   "metadata": {},
   "outputs": [],
   "source": [
    "tf.nn.softmax(predictions).numpy()"
   ]
  },
  {
   "cell_type": "code",
   "execution_count": null,
   "metadata": {},
   "outputs": [],
   "source": [
    "loss_fn = keras.losses.SparseCategoricalCrossentropy(from_logits=True)\n",
    "loss_fn(training_labels, predictions).numpy()"
   ]
  },
  {
   "cell_type": "code",
   "execution_count": null,
   "metadata": {},
   "outputs": [],
   "source": [
    "opt = keras.optimizers.Adam(learning_rate=.001)\n",
    "model.compile(optimizer=opt,\n",
    "             loss=loss_fn,\n",
    "             metrics=['accuracy'])"
   ]
  },
  {
   "cell_type": "code",
   "execution_count": null,
   "metadata": {},
   "outputs": [],
   "source": [
    "model.fit(training_samples, training_labels, epochs=5, batch_size=8)"
   ]
  },
  {
   "cell_type": "code",
   "execution_count": null,
   "metadata": {},
   "outputs": [],
   "source": [
    "model.evaluate(test_samples, test_labels, verbose=2)"
   ]
  },
  {
   "cell_type": "code",
   "execution_count": null,
   "metadata": {},
   "outputs": [],
   "source": []
  }
 ],
 "metadata": {
  "kernelspec": {
   "display_name": "Python 3",
   "language": "python",
   "name": "python3"
  },
  "language_info": {
   "codemirror_mode": {
    "name": "ipython",
    "version": 3
   },
   "file_extension": ".py",
   "mimetype": "text/x-python",
   "name": "python",
   "nbconvert_exporter": "python",
   "pygments_lexer": "ipython3",
   "version": "3.7.3"
  }
 },
 "nbformat": 4,
 "nbformat_minor": 4
}
